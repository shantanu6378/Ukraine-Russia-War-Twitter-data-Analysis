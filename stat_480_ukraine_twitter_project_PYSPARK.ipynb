{
  "cells": [
    {
      "cell_type": "markdown",
      "source": [
        "# **Predicting Popularity using Ukraine Conflict Tweets**"
      ],
      "metadata": {
        "id": "1wRFh8Ho_q6h"
      }
    },
    {
      "cell_type": "markdown",
      "source": [
        "**GROUP 10 - SAS:**  \n",
        "\n",
        "* Stephanie Chen (schen176)  \n",
        "* Anushree Vilas Pimpalkar (avp4)  \n",
        "* Shantanu Solanki (solanki7) "
      ],
      "metadata": {
        "id": "GFlre5z7_yXh"
      }
    },
    {
      "cell_type": "markdown",
      "metadata": {
        "id": "zhi5qyO_IzCN"
      },
      "source": [
        "### Install PySpark"
      ]
    },
    {
      "cell_type": "code",
      "source": [
        "%%bash \n",
        "\n",
        "## Setup Spark on Colab\n",
        "pip install -q pyspark\n",
        "apt-get install -yq openjdk-8-jdk-headless\n",
        "\n",
        "## Setup port-forwarding\n",
        "\n",
        "# Download ngrok\n",
        "wget -q https://bin.equinox.io/c/4VmDzA7iaHb/ngrok-stable-linux-amd64.zip\n",
        "# Unload ngrok\n",
        "unzip -q ngrok-stable-linux-amd64.zip"
      ],
      "metadata": {
        "id": "QxSoBP_0K_cH",
        "colab": {
          "base_uri": "https://localhost:8080/"
        },
        "outputId": "bd318ca0-ed98-46c5-dced-0847f3ecd7ca"
      },
      "execution_count": null,
      "outputs": [
        {
          "output_type": "stream",
          "name": "stdout",
          "text": [
            "Reading package lists...\n",
            "Building dependency tree...\n",
            "Reading state information...\n",
            "The following packages were automatically installed and are no longer required:\n",
            "  libnvidia-common-460 nsight-compute-2020.2.0\n",
            "Use 'apt autoremove' to remove them.\n",
            "The following additional packages will be installed:\n",
            "  openjdk-8-jre-headless\n",
            "Suggested packages:\n",
            "  openjdk-8-demo openjdk-8-source libnss-mdns fonts-dejavu-extra\n",
            "  fonts-ipafont-gothic fonts-ipafont-mincho fonts-wqy-microhei\n",
            "  fonts-wqy-zenhei fonts-indic\n",
            "The following NEW packages will be installed:\n",
            "  openjdk-8-jdk-headless openjdk-8-jre-headless\n",
            "0 upgraded, 2 newly installed, 0 to remove and 42 not upgraded.\n",
            "Need to get 36.5 MB of archives.\n",
            "After this operation, 143 MB of additional disk space will be used.\n",
            "Get:1 http://archive.ubuntu.com/ubuntu bionic-updates/universe amd64 openjdk-8-jre-headless amd64 8u312-b07-0ubuntu1~18.04 [28.2 MB]\n",
            "Get:2 http://archive.ubuntu.com/ubuntu bionic-updates/universe amd64 openjdk-8-jdk-headless amd64 8u312-b07-0ubuntu1~18.04 [8,298 kB]\n",
            "Fetched 36.5 MB in 2s (19.5 MB/s)\n",
            "Selecting previously unselected package openjdk-8-jre-headless:amd64.\r\n",
            "(Reading database ... \r(Reading database ... 5%\r(Reading database ... 10%\r(Reading database ... 15%\r(Reading database ... 20%\r(Reading database ... 25%\r(Reading database ... 30%\r(Reading database ... 35%\r(Reading database ... 40%\r(Reading database ... 45%\r(Reading database ... 50%\r(Reading database ... 55%\r(Reading database ... 60%\r(Reading database ... 65%\r(Reading database ... 70%\r(Reading database ... 75%\r(Reading database ... 80%\r(Reading database ... 85%\r(Reading database ... 90%\r(Reading database ... 95%\r(Reading database ... 100%\r(Reading database ... 155203 files and directories currently installed.)\r\n",
            "Preparing to unpack .../openjdk-8-jre-headless_8u312-b07-0ubuntu1~18.04_amd64.deb ...\r\n",
            "Unpacking openjdk-8-jre-headless:amd64 (8u312-b07-0ubuntu1~18.04) ...\r\n",
            "Selecting previously unselected package openjdk-8-jdk-headless:amd64.\r\n",
            "Preparing to unpack .../openjdk-8-jdk-headless_8u312-b07-0ubuntu1~18.04_amd64.deb ...\r\n",
            "Unpacking openjdk-8-jdk-headless:amd64 (8u312-b07-0ubuntu1~18.04) ...\r\n",
            "Setting up openjdk-8-jre-headless:amd64 (8u312-b07-0ubuntu1~18.04) ...\r\n",
            "update-alternatives: using /usr/lib/jvm/java-8-openjdk-amd64/jre/bin/orbd to provide /usr/bin/orbd (orbd) in auto mode\r\n",
            "update-alternatives: using /usr/lib/jvm/java-8-openjdk-amd64/jre/bin/servertool to provide /usr/bin/servertool (servertool) in auto mode\r\n",
            "update-alternatives: using /usr/lib/jvm/java-8-openjdk-amd64/jre/bin/tnameserv to provide /usr/bin/tnameserv (tnameserv) in auto mode\r\n",
            "Setting up openjdk-8-jdk-headless:amd64 (8u312-b07-0ubuntu1~18.04) ...\r\n",
            "update-alternatives: using /usr/lib/jvm/java-8-openjdk-amd64/bin/idlj to provide /usr/bin/idlj (idlj) in auto mode\r\n",
            "update-alternatives: using /usr/lib/jvm/java-8-openjdk-amd64/bin/wsimport to provide /usr/bin/wsimport (wsimport) in auto mode\r\n",
            "update-alternatives: using /usr/lib/jvm/java-8-openjdk-amd64/bin/jsadebugd to provide /usr/bin/jsadebugd (jsadebugd) in auto mode\r\n",
            "update-alternatives: using /usr/lib/jvm/java-8-openjdk-amd64/bin/native2ascii to provide /usr/bin/native2ascii (native2ascii) in auto mode\r\n",
            "update-alternatives: using /usr/lib/jvm/java-8-openjdk-amd64/bin/javah to provide /usr/bin/javah (javah) in auto mode\r\n",
            "update-alternatives: using /usr/lib/jvm/java-8-openjdk-amd64/bin/hsdb to provide /usr/bin/hsdb (hsdb) in auto mode\r\n",
            "update-alternatives: using /usr/lib/jvm/java-8-openjdk-amd64/bin/clhsdb to provide /usr/bin/clhsdb (clhsdb) in auto mode\r\n",
            "update-alternatives: using /usr/lib/jvm/java-8-openjdk-amd64/bin/xjc to provide /usr/bin/xjc (xjc) in auto mode\r\n",
            "update-alternatives: using /usr/lib/jvm/java-8-openjdk-amd64/bin/schemagen to provide /usr/bin/schemagen (schemagen) in auto mode\r\n",
            "update-alternatives: using /usr/lib/jvm/java-8-openjdk-amd64/bin/extcheck to provide /usr/bin/extcheck (extcheck) in auto mode\r\n",
            "update-alternatives: using /usr/lib/jvm/java-8-openjdk-amd64/bin/jhat to provide /usr/bin/jhat (jhat) in auto mode\r\n",
            "update-alternatives: using /usr/lib/jvm/java-8-openjdk-amd64/bin/wsgen to provide /usr/bin/wsgen (wsgen) in auto mode\r\n"
          ]
        }
      ]
    },
    {
      "cell_type": "code",
      "source": [
        "import os\n",
        "os.environ[\"JAVA_HOME\"] = \"/usr/lib/jvm/java-8-openjdk-amd64\""
      ],
      "metadata": {
        "id": "e0FDuKEU3EPi"
      },
      "execution_count": null,
      "outputs": []
    },
    {
      "cell_type": "code",
      "source": [
        "import pyspark \n",
        "from pyspark.sql import *\n",
        "from pyspark.sql.functions import *\n",
        "from pyspark import SparkContext, SparkConf\n",
        "\n",
        "# Set configuration scope to be local and use port 4050\n",
        "config_scope = SparkConf().set(\"spark.ui.port\", \"4050\")\n",
        "\n",
        "# Create the connection to a Spark cluster\n",
        "sc = pyspark.SparkContext(conf = config_scope)\n",
        "\n",
        "# Adjust context from WARN to INFO level\n",
        "# Options: ALL, DEBUG, ERROR, FATAL, INFO, OFF, TRACE, WARN\n",
        "sc.setLogLevel(\"INFO\")\n",
        "\n",
        "# Create a session to programmatically build Spark RDD, DataFrame and DataSet\n",
        "spark = SparkSession.builder.getOrCreate()"
      ],
      "metadata": {
        "id": "-mPYVCYE3Ten"
      },
      "execution_count": null,
      "outputs": []
    },
    {
      "cell_type": "code",
      "execution_count": null,
      "metadata": {
        "id": "U0hZegVX33hX"
      },
      "outputs": [],
      "source": [
        "%%bash\n",
        "\n",
        "## Setup port-forwarding\n",
        "\n",
        "# Download ngrok\n",
        "wget -q https://bin.equinox.io/c/4VmDzA7iaHb/ngrok-stable-linux-amd64.zip\n",
        "# Unload ngrok\n",
        "unzip -qo ngrok-stable-linux-amd64.zip"
      ]
    },
    {
      "cell_type": "markdown",
      "metadata": {
        "id": "GPpcoI9bI1x_"
      },
      "source": [
        "### Install ngrok"
      ]
    },
    {
      "cell_type": "code",
      "execution_count": null,
      "metadata": {
        "colab": {
          "base_uri": "https://localhost:8080/"
        },
        "id": "SpGfT_FvU65P",
        "outputId": "6e4d1600-3a21-4281-eab6-fbc8524507c7"
      },
      "outputs": [
        {
          "output_type": "stream",
          "name": "stdout",
          "text": [
            "Authtoken saved to configuration file: /root/.ngrok2/ngrok.yml\n",
            "{\"tunnels\":[],\"uri\":\"/api/tunnels\"}\n"
          ]
        }
      ],
      "source": [
        "# Set ngrok authtoken once per-session\n",
        "!./ngrok authtoken 286rzhgBkhBeIztD7IryWlIPzPL_78TuD6FWoQyDqpA2NdBkZ\n",
        "\n",
        "# Start an HTTP tunnel forwarding to your local port 4050\n",
        "get_ipython().system_raw('./ngrok http 4050 &')\n",
        "\n",
        "# Open a local host port\n",
        "!curl -s http://localhost:4040/api/tunnels"
      ]
    },
    {
      "cell_type": "markdown",
      "metadata": {
        "id": "8Z6SQhneIsIn"
      },
      "source": [
        "## Environment Setup"
      ]
    },
    {
      "cell_type": "markdown",
      "metadata": {
        "id": "AdfghmVoIuLR"
      },
      "source": [
        "### Mount Google Drive"
      ]
    },
    {
      "cell_type": "code",
      "execution_count": null,
      "metadata": {
        "colab": {
          "base_uri": "https://localhost:8080/"
        },
        "id": "bvMzK-ZquUXv",
        "outputId": "b183ddcf-6b11-4512-bee0-577ab5e1290f"
      },
      "outputs": [
        {
          "output_type": "stream",
          "name": "stdout",
          "text": [
            "Mounted at /content/drive\n"
          ]
        }
      ],
      "source": [
        "# Load the Drive helper and mount\n",
        "from google.colab import drive\n",
        "drive.mount('/content/drive')"
      ]
    },
    {
      "cell_type": "code",
      "execution_count": null,
      "metadata": {
        "colab": {
          "base_uri": "https://localhost:8080/"
        },
        "id": "xxS0s7gMw_i9",
        "outputId": "89a9df95-ff91-44cf-b9eb-66c6afaefaf9"
      },
      "outputs": [
        {
          "output_type": "stream",
          "name": "stdout",
          "text": [
            "/content/drive/.shortcut-targets-by-id/19avAQ6MusyUGaQiJDqGXLxBKnCbTBOhb/Data_480\n"
          ]
        }
      ],
      "source": [
        "cd /content/drive/MyDrive/Data_480"
      ]
    },
    {
      "cell_type": "code",
      "execution_count": null,
      "metadata": {
        "id": "vi9Bdmyv3zdA",
        "colab": {
          "base_uri": "https://localhost:8080/"
        },
        "outputId": "d8383ae9-8986-4736-9da2-e26a5c215fab"
      },
      "outputs": [
        {
          "output_type": "stream",
          "name": "stdout",
          "text": [
            "Requirement already satisfied: pyspark in /usr/local/lib/python3.7/dist-packages (3.2.1)\n",
            "Requirement already satisfied: py4j==0.10.9.3 in /usr/local/lib/python3.7/dist-packages (from pyspark) (0.10.9.3)\n",
            "openjdk-8-jdk-headless is already the newest version (8u312-b07-0ubuntu1~18.04).\n",
            "The following packages were automatically installed and are no longer required:\n",
            "  libnvidia-common-460 nsight-compute-2020.2.0\n",
            "Use 'apt autoremove' to remove them.\n",
            "0 upgraded, 0 newly installed, 0 to remove and 42 not upgraded.\n"
          ]
        },
        {
          "output_type": "stream",
          "name": "stderr",
          "text": [
            "\n",
            "WARNING: apt does not have a stable CLI interface. Use with caution in scripts.\n",
            "\n"
          ]
        }
      ],
      "source": [
        "%%bash \n",
        "pip install pyspark\n",
        "pip install -U -q PyDrive\n",
        "apt install openjdk-8-jdk-headless -qq"
      ]
    },
    {
      "cell_type": "markdown",
      "metadata": {
        "id": "iIs4WMXvIwQ3"
      },
      "source": [
        "### Enable packages"
      ]
    },
    {
      "cell_type": "code",
      "execution_count": null,
      "metadata": {
        "colab": {
          "base_uri": "https://localhost:8080/"
        },
        "id": "Z4A6Y3hWxoik",
        "outputId": "2b43e87d-66e3-4073-940f-81f2504fc51a"
      },
      "outputs": [
        {
          "output_type": "stream",
          "name": "stdout",
          "text": [
            "python: 3.7.13 (default, Apr 24 2022, 01:04:09) \n",
            "[GCC 7.5.0]\n",
            "pandas: 1.21.6\n",
            "tensorflow: 2.8.0\n",
            "GPU Enabled: False\n",
            "Notebook is on Google CoLab\n"
          ]
        }
      ],
      "source": [
        "import os\n",
        "import sys\n",
        "import pandas as pd\n",
        "import numpy as np\n",
        "import seaborn as sns\n",
        "import matplotlib.pyplot as plt\n",
        "%tensorflow_version 2.x\n",
        "import tensorflow as tf\n",
        "from pyspark.sql.functions import isnan, when, count, col, countDistinct\n",
        "import warnings \n",
        "warnings.filterwarnings(\"ignore\")\n",
        "print(f\"python: {sys.version}\")\n",
        "print(f\"pandas: {np.__version__}\")\n",
        "print(f\"tensorflow: {tf.__version__}\")\n",
        "# Detect if a GPU is present\n",
        "gpus = tf.config.list_physical_devices('GPU')\n",
        "\n",
        "if gpus:\n",
        "  print(f\"GPU Enabled: True\")\n",
        "else:\n",
        "  print(f\"GPU Enabled: False\")\n",
        "\n",
        "try:\n",
        "  from google.colab import drive\n",
        "  is_google_colab = True\n",
        "\n",
        "  print(\"Notebook is on Google CoLab\")\n",
        "except:\n",
        "  is_google_colab = False\n",
        "  print(\"Notebook is being run locally or through another source.\")\n"
      ]
    },
    {
      "cell_type": "code",
      "execution_count": null,
      "metadata": {
        "colab": {
          "base_uri": "https://localhost:8080/"
        },
        "id": "pQz96nGp-cb4",
        "outputId": "8b6766cb-8c24-4b3f-da89-28b5ac68d7c9"
      },
      "outputs": [
        {
          "output_type": "stream",
          "name": "stdout",
          "text": [
            "tar: spark-3.0.1-bin-hadoop2.7.tgz: Cannot open: No such file or directory\n",
            "tar: Error is not recoverable: exiting now\n"
          ]
        }
      ],
      "source": [
        "!apt-get install openjdk-8-jdk-headless -qq > /dev/null\n",
        "!wget -q https://www-us.apache.org/dist/spark/spark-3.0.1/spark-3.0.1-bin-hadoop2.7.tgz\n",
        "!tar xf spark-3.0.1-bin-hadoop2.7.tgz"
      ]
    },
    {
      "cell_type": "markdown",
      "metadata": {
        "id": "4MEOlGoLI31P"
      },
      "source": [
        "### Initialize Spark cluster"
      ]
    },
    {
      "cell_type": "code",
      "source": [
        "spark"
      ],
      "metadata": {
        "colab": {
          "base_uri": "https://localhost:8080/",
          "height": 221
        },
        "id": "kqYSsNsg-Zj1",
        "outputId": "2d2c6ab6-6bb9-4e48-f569-fa7c75ccd671"
      },
      "execution_count": null,
      "outputs": [
        {
          "output_type": "execute_result",
          "data": {
            "text/plain": [
              "<pyspark.sql.session.SparkSession at 0x7ff7bac5e850>"
            ],
            "text/html": [
              "\n",
              "            <div>\n",
              "                <p><b>SparkSession - in-memory</b></p>\n",
              "                \n",
              "        <div>\n",
              "            <p><b>SparkContext</b></p>\n",
              "\n",
              "            <p><a href=\"http://b74c05dcd09f:4050\">Spark UI</a></p>\n",
              "\n",
              "            <dl>\n",
              "              <dt>Version</dt>\n",
              "                <dd><code>v3.2.1</code></dd>\n",
              "              <dt>Master</dt>\n",
              "                <dd><code>local[*]</code></dd>\n",
              "              <dt>AppName</dt>\n",
              "                <dd><code>pyspark-shell</code></dd>\n",
              "            </dl>\n",
              "        </div>\n",
              "        \n",
              "            </div>\n",
              "        "
            ]
          },
          "metadata": {},
          "execution_count": 11
        }
      ]
    },
    {
      "cell_type": "markdown",
      "metadata": {
        "id": "Ujnnod5wI678"
      },
      "source": [
        "## Load Data"
      ]
    },
    {
      "cell_type": "markdown",
      "metadata": {
        "id": "UqwolJuHJAZL"
      },
      "source": [
        "### Rename file"
      ]
    },
    {
      "cell_type": "code",
      "execution_count": null,
      "metadata": {
        "id": "8yO13pbTHOHE"
      },
      "outputs": [],
      "source": [
        "%%bash\n",
        "#/content/UkraineCombinedTweetsDeduped20220227-131611.csv.gzip\n",
        "#/content/UkraineCombinedTweetsDeduped20220227-131611.csv.gz\n",
        "#/content/0401_UkraineCombinedTweetsDeduped.csv.gzip\n",
        "cp /content/drive/MyDrive/Data_480/0401_UkraineCombinedTweetsDeduped.csv.gzip /content/drive/MyDrive/Data_480/0401_UkraineCombinedTweetsDeduped.csv.gz\n",
        "\n",
        "\n",
        "#other files are directly renamed"
      ]
    },
    {
      "cell_type": "markdown",
      "metadata": {
        "id": "ZPNeTcn9JNuk"
      },
      "source": [
        "### Extract with gunzip"
      ]
    },
    {
      "cell_type": "markdown",
      "metadata": {
        "id": "aY3j35EtJlJS"
      },
      "source": [
        "### Read with Spark"
      ]
    },
    {
      "cell_type": "code",
      "execution_count": null,
      "metadata": {
        "id": "xZW48bwTJPbr"
      },
      "outputs": [],
      "source": [
        "df = spark.read.csv(\"/content/drive/MyDrive/Data_480\", \n",
        "                    sep=',', header='true', inferSchema = 'true')"
      ]
    },
    {
      "cell_type": "code",
      "execution_count": null,
      "metadata": {
        "id": "FsR5VwYbKP4v",
        "colab": {
          "base_uri": "https://localhost:8080/"
        },
        "outputId": "5bc9313d-2082-4659-930b-25dcbde63fa7"
      },
      "outputs": [
        {
          "output_type": "stream",
          "name": "stdout",
          "text": [
            "+--------------------+------------------+------------+--------------------+--------+--------------------+-------------------+--------------------+-------------+--------------------+--------------------+------------+----+--------+--------------------+-----------+--------------+-----------+\n",
            "|                 _c0|            userid|    username|            acctdesc|location|           following|          followers|         totaltweets|usercreatedts|             tweetid|      tweetcreatedts|retweetcount|text|hashtags|            language|coordinates|favorite_count|extractedts|\n",
            "+--------------------+------------------+------------+--------------------+--------+--------------------+-------------------+--------------------+-------------+--------------------+--------------------+------------+----+--------+--------------------+-----------+--------------+-----------+\n",
            "|                   0|699759327913967617|RuidoEnLaRed|Periodismo audiov...|    null|                null|               null|                null|         null|                null|                null|        null|null|    null|                null|       null|          null|       null|\n",
            "|Todo lo que quier...|              null|        null|                null|    null|                null|               null|                null|         null|                null|                null|        null|null|    null|                null|       null|          null|       null|\n",
            "|https://t.co/ojNi...|              null|        null|                null|    null|                null|               null|                null|         null|                null|                null|        null|null|    null|                null|       null|          null|       null|\n",
            "|https://t.co/izz5...|              null|        null|                null|    null|                null|               null|                null|         null|                null|                null|        null|null|    null|                null|       null|          null|       null|\n",
            "|https://t.co/UsWB...|              null|           0|              156222|   80268|2016-02-17 00:56:...|1507870011393667073|2022-03-27 00:00:...|            0|Y si crees que ya...|[{'text': 'Rusia'...|          es|null|       0|2022-03-27 00:01:...|       null|          null|       null|\n",
            "+--------------------+------------------+------------+--------------------+--------+--------------------+-------------------+--------------------+-------------+--------------------+--------------------+------------+----+--------+--------------------+-----------+--------------+-----------+\n",
            "only showing top 5 rows\n",
            "\n"
          ]
        }
      ],
      "source": [
        "df.show(5)"
      ]
    },
    {
      "cell_type": "markdown",
      "metadata": {
        "id": "OXbKhfQl-_LX"
      },
      "source": [
        "## Exploratory Data Analysis"
      ]
    },
    {
      "cell_type": "markdown",
      "metadata": {
        "id": "7EUBNXk7cAas"
      },
      "source": [
        "### Basic Information"
      ]
    },
    {
      "cell_type": "code",
      "execution_count": null,
      "metadata": {
        "colab": {
          "base_uri": "https://localhost:8080/"
        },
        "id": "5oW857KK_EB_",
        "outputId": "9031e94b-31b0-45bf-d688-b12a233f671e"
      },
      "outputs": [
        {
          "output_type": "stream",
          "name": "stdout",
          "text": [
            "39047346 18\n"
          ]
        }
      ],
      "source": [
        "print(df.count(), len(df.columns)) #no of rows, cols"
      ]
    },
    {
      "cell_type": "code",
      "execution_count": null,
      "metadata": {
        "colab": {
          "base_uri": "https://localhost:8080/"
        },
        "id": "sOKy8-JCB_MP",
        "outputId": "56e97bbf-1105-4ed6-b12a-80767b40e09c"
      },
      "outputs": [
        {
          "output_type": "execute_result",
          "data": {
            "text/plain": [
              "['_c0',\n",
              " 'userid',\n",
              " 'username',\n",
              " 'acctdesc',\n",
              " 'location',\n",
              " 'following',\n",
              " 'followers',\n",
              " 'totaltweets',\n",
              " 'usercreatedts',\n",
              " 'tweetid',\n",
              " 'tweetcreatedts',\n",
              " 'retweetcount',\n",
              " 'text',\n",
              " 'hashtags',\n",
              " 'language',\n",
              " 'coordinates',\n",
              " 'favorite_count',\n",
              " 'extractedts']"
            ]
          },
          "metadata": {},
          "execution_count": 17
        }
      ],
      "source": [
        "df.columns"
      ]
    },
    {
      "cell_type": "code",
      "execution_count": null,
      "metadata": {
        "id": "vVP4K0AxBXrT"
      },
      "outputs": [],
      "source": [
        "#drop 1st col\n",
        "\n",
        "df = df.drop(\"_c0\")\n",
        "\n",
        "#selecting only English tweets and only 100000 rows\n",
        "\n",
        "df_en = df.filter(df.language == \"en\").limit(100000)\n"
      ]
    },
    {
      "cell_type": "code",
      "source": [
        "df_en.count()"
      ],
      "metadata": {
        "colab": {
          "base_uri": "https://localhost:8080/"
        },
        "id": "2JEivz6ZqA3N",
        "outputId": "a56d8639-2d01-43ec-9978-cbe0002902ca"
      },
      "execution_count": null,
      "outputs": [
        {
          "output_type": "execute_result",
          "data": {
            "text/plain": [
              "100000"
            ]
          },
          "metadata": {},
          "execution_count": 19
        }
      ]
    },
    {
      "cell_type": "markdown",
      "source": [
        "### Check for nulls"
      ],
      "metadata": {
        "id": "SyPcQ6YnFBsw"
      }
    },
    {
      "cell_type": "code",
      "execution_count": null,
      "metadata": {
        "colab": {
          "base_uri": "https://localhost:8080/"
        },
        "id": "E1d6Ww6n_JlA",
        "outputId": "f007331a-5634-44f2-a836-80a71a89df05"
      },
      "outputs": [
        {
          "output_type": "stream",
          "name": "stdout",
          "text": [
            "+------+--------+--------+--------+---------+---------+-----------+-------------+-------+--------------+------------+----+--------+--------+-----------+--------------+-----------+\n",
            "|userid|username|acctdesc|location|following|followers|totaltweets|usercreatedts|tweetid|tweetcreatedts|retweetcount|text|hashtags|language|coordinates|favorite_count|extractedts|\n",
            "+------+--------+--------+--------+---------+---------+-----------+-------------+-------+--------------+------------+----+--------+--------+-----------+--------------+-----------+\n",
            "|     8|       2|   26257|   42121|        0|        0|          0|            0|      0|             0|           0|   0|       0|       0|      99984|             0|          0|\n",
            "+------+--------+--------+--------+---------+---------+-----------+-------------+-------+--------------+------------+----+--------+--------+-----------+--------------+-----------+\n",
            "\n"
          ]
        }
      ],
      "source": [
        "df_en.select([count(when(isnan(c)| col(c).isNull(), c)).alias(c) for c in df_en.columns]).show(5)"
      ]
    },
    {
      "cell_type": "markdown",
      "source": [
        "### Check distinct values"
      ],
      "metadata": {
        "id": "PJrG06UtFKaQ"
      }
    },
    {
      "cell_type": "code",
      "execution_count": null,
      "metadata": {
        "colab": {
          "base_uri": "https://localhost:8080/"
        },
        "id": "GsfoeHMRpCUW",
        "outputId": "8aea5a91-159d-44aa-b2ef-bd824f368886"
      },
      "outputs": [
        {
          "output_type": "stream",
          "name": "stdout",
          "text": [
            "+------+--------+--------+--------+---------+---------+-----------+-------------+-------+--------------+------------+-----+--------+--------+-----------+--------------+-----------+\n",
            "|userid|username|acctdesc|location|following|followers|totaltweets|usercreatedts|tweetid|tweetcreatedts|retweetcount| text|hashtags|language|coordinates|favorite_count|extractedts|\n",
            "+------+--------+--------+--------+---------+---------+-----------+-------------+-------+--------------+------------+-----+--------+--------+-----------+--------------+-----------+\n",
            "| 58358|   58373|   42865|   16380|     8164|     9995|      49389|        58353|  99989|         51036|        4237|23770|   18769|       1|         15|           112|     100000|\n",
            "+------+--------+--------+--------+---------+---------+-----------+-------------+-------+--------------+------------+-----+--------+--------+-----------+--------------+-----------+\n",
            "\n"
          ]
        }
      ],
      "source": [
        "df_en.agg(*(countDistinct(col(c)).alias(c) for c in df_en.columns)).show()"
      ]
    },
    {
      "cell_type": "code",
      "execution_count": null,
      "metadata": {
        "colab": {
          "base_uri": "https://localhost:8080/"
        },
        "id": "VrTYj6E2_Jqc",
        "outputId": "8bcb1b74-2420-46ac-9a02-67c759844d1b"
      },
      "outputs": [
        {
          "output_type": "stream",
          "name": "stdout",
          "text": [
            "+-------------------+---------------+--------------------+--------------------+---------+---------+-----------+--------------------+-------------------+--------------------+------------+--------------------+--------------------+--------+-----------+--------------+--------------------+\n",
            "|             userid|       username|            acctdesc|            location|following|followers|totaltweets|       usercreatedts|            tweetid|      tweetcreatedts|retweetcount|                text|            hashtags|language|coordinates|favorite_count|         extractedts|\n",
            "+-------------------+---------------+--------------------+--------------------+---------+---------+-----------+--------------------+-------------------+--------------------+------------+--------------------+--------------------+--------+-----------+--------------+--------------------+\n",
            "|          152930351|     AnonGhostt|   Secret for Public|                  UK|        7|     5032|     376514|2010-06-07 07:02:...|1507870013260111876|2022-03-27 00:00:...|        6409|The #Anonymous co...|[{'text': 'Anonym...|      en|       null|             0|2022-03-27 00:01:...|\n",
            "|          369869874|      ORFMumbai|Non–partisan, ind...|Nariman Point, Mu...|       50|     3239|      60298|2011-09-08 02:34:...|1507870013272858646|2022-03-27 00:00:...|           0|In addition to ad...|[{'text': 'Russia...|      en|       null|             0|2022-03-27 00:12:...|\n",
            "|1459659466962571271|PbpSouthCentral|Dublin South Cent...|                null|      158|       76|         17|2021-11-13 23:10:...|1507870015621640203|2022-03-27 00:00:...|           0|@PbpSouthCentral ...|[{'text': 'Yemen'...|      en|       null|             0|2022-03-27 00:01:...|\n",
            "|1184512866885558274|    RStatecraft|Online magazine o...|      Washington, DC|      337|    17196|      17760|2019-10-16 16:54:...|1507870015659253760|2022-03-27 00:00:...|           0|Former NATO Amb. ...|[{'text': 'NATO',...|      en|       null|             0|2022-03-27 00:01:...|\n",
            "|         2384105730|alphacentauriii|All Mankind Affai...|  Earth, Sol System.|     1298|     5302|      92575|2014-03-11 19:24:...|1507870017605746690|2022-03-27 00:00:...|         327|#Ukraine: Ukraini...|[{'text': 'Ukrain...|      en|       null|             0|2022-03-27 00:01:...|\n",
            "|1287135082042535937| Yvonne49788239|Mum, grandma, Bow...|                null|      214|      189|      18409|2020-07-25 21:18:...|1507870019518087176|2022-03-27 00:00:...|        1308|#Ukraine Zmitser ...|[{'text': 'Ukrain...|      en|       null|             0|2022-03-27 00:01:...|\n",
            "|1049772337468514305|   KarenFerry15|Married and https...|         Dunkirk, NY|     1094|      605|       3568|2018-10-09 21:23:...|1507870022227697665|2022-03-27 00:00:...|         106|#Biden's insisten...|[{'text': 'Biden'...|      en|       null|             0|2022-03-27 00:12:...|\n",
            "| 956834078606667776|         rui2c2|            bioritmo|                null|      937|      221|       4064|2018-01-26 10:19:...|1507870032017215496|2022-03-27 00:00:...|           2|\"#Ukraine In the ...|[{'text': 'Ukrain...|      en|       null|             0|2022-03-27 00:01:...|\n",
            "| 831886409451630592|       humspot1|                null|                null|     1869|      464|      31322|2017-02-15 15:22:...|1507870034340818946|2022-03-27 00:00:...|         106|#Biden's insisten...|[{'text': 'Biden'...|      en|       null|             0|2022-03-27 00:12:...|\n",
            "|1353306974939738113|      AGomezler|I’m recently reti...|         Houston, TX|     3959|      664|      23961|2021-01-24 11:41:...|1507870039248195593|2022-03-27 00:00:...|        1308|#Ukraine Zmitser ...|[{'text': 'Ukrain...|      en|       null|             0|2022-03-27 00:01:...|\n",
            "+-------------------+---------------+--------------------+--------------------+---------+---------+-----------+--------------------+-------------------+--------------------+------------+--------------------+--------------------+--------+-----------+--------------+--------------------+\n",
            "only showing top 10 rows\n",
            "\n"
          ]
        }
      ],
      "source": [
        "df_en.show(10)"
      ]
    },
    {
      "cell_type": "code",
      "execution_count": null,
      "metadata": {
        "id": "uAd9YQ7A_J2U"
      },
      "outputs": [],
      "source": [
        "freq_table = df_en.select(col(\"location\").cast(\"string\")).groupBy(\"location\").count().toPandas()"
      ]
    },
    {
      "cell_type": "code",
      "execution_count": null,
      "metadata": {
        "colab": {
          "base_uri": "https://localhost:8080/"
        },
        "id": "6FDM4HiYyk5W",
        "outputId": "1538d7b0-dd98-4eab-f953-15ebc71925d4"
      },
      "outputs": [
        {
          "output_type": "execute_result",
          "data": {
            "text/plain": [
              "16261    42121\n",
              "41        1175\n",
              "7          564\n",
              "167        551\n",
              "27         509\n",
              "         ...  \n",
              "7741         1\n",
              "7742         1\n",
              "7743         1\n",
              "7745         1\n",
              "16380        1\n",
              "Name: count, Length: 16381, dtype: int64"
            ]
          },
          "metadata": {},
          "execution_count": 24
        }
      ],
      "source": [
        "freq_table[\"count\"].sort_values(ascending = False)"
      ]
    },
    {
      "cell_type": "markdown",
      "metadata": {
        "id": "Ao6ArZpwDxBX"
      },
      "source": [
        "### Data Cleaning & Preprocessing"
      ]
    },
    {
      "cell_type": "markdown",
      "source": [
        "#### Select relevant columns"
      ],
      "metadata": {
        "id": "EV_L5gF6FgbN"
      }
    },
    {
      "cell_type": "code",
      "execution_count": null,
      "metadata": {
        "colab": {
          "base_uri": "https://localhost:8080/"
        },
        "id": "7f6FKlzdDwGq",
        "outputId": "7e6ddaa3-6db5-4a03-efac-15d712dc8917"
      },
      "outputs": [
        {
          "output_type": "stream",
          "name": "stdout",
          "text": [
            "+---------------+---------+---------+-----------+--------------------+------------+--------------------+\n",
            "|       username|following|followers|totaltweets|      tweetcreatedts|retweetcount|                text|\n",
            "+---------------+---------+---------+-----------+--------------------+------------+--------------------+\n",
            "|     AnonGhostt|        7|     5032|     376514|2022-03-27 00:00:...|        6409|The #Anonymous co...|\n",
            "|      ORFMumbai|       50|     3239|      60298|2022-03-27 00:00:...|           0|In addition to ad...|\n",
            "|PbpSouthCentral|      158|       76|         17|2022-03-27 00:00:...|           0|@PbpSouthCentral ...|\n",
            "|    RStatecraft|      337|    17196|      17760|2022-03-27 00:00:...|           0|Former NATO Amb. ...|\n",
            "|alphacentauriii|     1298|     5302|      92575|2022-03-27 00:00:...|         327|#Ukraine: Ukraini...|\n",
            "| Yvonne49788239|      214|      189|      18409|2022-03-27 00:00:...|        1308|#Ukraine Zmitser ...|\n",
            "|   KarenFerry15|     1094|      605|       3568|2022-03-27 00:00:...|         106|#Biden's insisten...|\n",
            "|         rui2c2|      937|      221|       4064|2022-03-27 00:00:...|           2|\"#Ukraine In the ...|\n",
            "|       humspot1|     1869|      464|      31322|2022-03-27 00:00:...|         106|#Biden's insisten...|\n",
            "|      AGomezler|     3959|      664|      23961|2022-03-27 00:00:...|        1308|#Ukraine Zmitser ...|\n",
            "|   SColesPorter|     5227|     5357|      16556|2022-03-27 00:00:...|           1|75 tons of medica...|\n",
            "| cinnamon201718|      296|      442|     124599|2022-03-27 00:00:...|         250|NO VAX, NO FOOD: ...|\n",
            "|GhebremariamTi1|      846|       38|        566|2022-03-27 00:00:...|         136|.@ChrisVanHollen ...|\n",
            "|    DanValllejo|        3|        0|          6|2022-03-27 00:00:...|         373|@aeyakovenko it's...|\n",
            "|     Rachel5742|     8836|    14933|      77347|2022-03-27 00:00:...|           0|@KyivIndependent ...|\n",
            "|     haloboyscp|      591|      308|      20331|2022-03-27 00:00:...|          14|\"During his speec...|\n",
            "|   RickiMayhall|     1784|     2348|     336103|2022-03-27 00:00:...|          94|This is London, U...|\n",
            "|       SteeveQC|     1741|     1294|       8210|2022-03-27 00:00:...|        3760|\"A #Moscow City D...|\n",
            "|      linneydel|     2509|     1935|     197941|2022-03-27 00:00:...|           0|@GOP Tell your st...|\n",
            "|       serbreka|     2114|      605|       2926|2022-03-27 00:00:...|        1308|#Ukraine Zmitser ...|\n",
            "+---------------+---------+---------+-----------+--------------------+------------+--------------------+\n",
            "only showing top 20 rows\n",
            "\n"
          ]
        }
      ],
      "source": [
        "#Subset data on relevant columns\n",
        "en_df_subset = df_en[['username', 'following', 'followers', 'totaltweets', 'tweetcreatedts', 'retweetcount', 'text']]\n",
        "en_df_subset.show()"
      ]
    },
    {
      "cell_type": "markdown",
      "source": [
        "#### Remove missing data rows"
      ],
      "metadata": {
        "id": "_UxWPZZ0Fons"
      }
    },
    {
      "cell_type": "code",
      "execution_count": null,
      "metadata": {
        "id": "1D57VXT6D1bN"
      },
      "outputs": [],
      "source": [
        "#Removing missing values \n",
        "en_df_subset = en_df_subset.na.drop(\"any\")"
      ]
    },
    {
      "cell_type": "code",
      "execution_count": null,
      "metadata": {
        "colab": {
          "base_uri": "https://localhost:8080/"
        },
        "id": "_g3-L1QCoj9W",
        "outputId": "d2061157-b5c7-4fb4-8167-a90c937b4750"
      },
      "outputs": [
        {
          "output_type": "stream",
          "name": "stdout",
          "text": [
            "+--------+---------+---------+-----------+--------------+------------+----+\n",
            "|username|following|followers|totaltweets|tweetcreatedts|retweetcount|text|\n",
            "+--------+---------+---------+-----------+--------------+------------+----+\n",
            "|       0|        0|        0|          0|             0|           0|   0|\n",
            "+--------+---------+---------+-----------+--------------+------------+----+\n",
            "\n"
          ]
        }
      ],
      "source": [
        "en_df_subset.select([count(when(isnan(c) | col(c).isNull(), c)).alias(c) for c in en_df_subset.columns]).show()"
      ]
    },
    {
      "cell_type": "code",
      "source": [
        "en_df_subset.count()"
      ],
      "metadata": {
        "colab": {
          "base_uri": "https://localhost:8080/"
        },
        "id": "DXD_FY0DChHE",
        "outputId": "d3d3f34f-e3c9-428d-e7d3-8f30c7824028"
      },
      "execution_count": null,
      "outputs": [
        {
          "output_type": "execute_result",
          "data": {
            "text/plain": [
              "99998"
            ]
          },
          "metadata": {},
          "execution_count": 29
        }
      ]
    },
    {
      "cell_type": "code",
      "execution_count": null,
      "metadata": {
        "id": "oTqZTdnrD254"
      },
      "outputs": [],
      "source": [
        "#Clean following variable and convert to numeric\n",
        "en_df_subset.select('following').distinct().collect()"
      ]
    },
    {
      "cell_type": "markdown",
      "source": [
        "#### Change to suitable datatypes"
      ],
      "metadata": {
        "id": "g1FcqjYDF3CW"
      }
    },
    {
      "cell_type": "code",
      "execution_count": null,
      "metadata": {
        "colab": {
          "base_uri": "https://localhost:8080/"
        },
        "id": "VrT890kZD4Tq",
        "outputId": "4a2825ba-588d-431d-a010-3c9c536081ec"
      },
      "outputs": [
        {
          "output_type": "stream",
          "name": "stdout",
          "text": [
            "+---------------+---------+---------+-----------+--------------+------------+--------------------+\n",
            "|       username|following|followers|totaltweets|tweetcreatedts|retweetcount|                text|\n",
            "+---------------+---------+---------+-----------+--------------+------------+--------------------+\n",
            "|     AnonGhostt|        7|     5032|     376514|    2022-03-27|        6409|The #Anonymous co...|\n",
            "|      ORFMumbai|       50|     3239|      60298|    2022-03-27|           0|In addition to ad...|\n",
            "|PbpSouthCentral|      158|       76|         17|    2022-03-27|           0|@PbpSouthCentral ...|\n",
            "|    RStatecraft|      337|    17196|      17760|    2022-03-27|           0|Former NATO Amb. ...|\n",
            "|alphacentauriii|     1298|     5302|      92575|    2022-03-27|         327|#Ukraine: Ukraini...|\n",
            "| Yvonne49788239|      214|      189|      18409|    2022-03-27|        1308|#Ukraine Zmitser ...|\n",
            "|   KarenFerry15|     1094|      605|       3568|    2022-03-27|         106|#Biden's insisten...|\n",
            "|         rui2c2|      937|      221|       4064|    2022-03-27|           2|\"#Ukraine In the ...|\n",
            "|       humspot1|     1869|      464|      31322|    2022-03-27|         106|#Biden's insisten...|\n",
            "|      AGomezler|     3959|      664|      23961|    2022-03-27|        1308|#Ukraine Zmitser ...|\n",
            "|   SColesPorter|     5227|     5357|      16556|    2022-03-27|           1|75 tons of medica...|\n",
            "| cinnamon201718|      296|      442|     124599|    2022-03-27|         250|NO VAX, NO FOOD: ...|\n",
            "|GhebremariamTi1|      846|       38|        566|    2022-03-27|         136|.@ChrisVanHollen ...|\n",
            "|    DanValllejo|        3|        0|          6|    2022-03-27|         373|@aeyakovenko it's...|\n",
            "|     Rachel5742|     8836|    14933|      77347|    2022-03-27|           0|@KyivIndependent ...|\n",
            "|     haloboyscp|      591|      308|      20331|    2022-03-27|          14|\"During his speec...|\n",
            "|   RickiMayhall|     1784|     2348|     336103|    2022-03-27|          94|This is London, U...|\n",
            "|       SteeveQC|     1741|     1294|       8210|    2022-03-27|        3760|\"A #Moscow City D...|\n",
            "|      linneydel|     2509|     1935|     197941|    2022-03-27|           0|@GOP Tell your st...|\n",
            "|       serbreka|     2114|      605|       2926|    2022-03-27|        1308|#Ukraine Zmitser ...|\n",
            "+---------------+---------+---------+-----------+--------------+------------+--------------------+\n",
            "only showing top 20 rows\n",
            "\n"
          ]
        }
      ],
      "source": [
        "# Changing columns to suitable datatypes:\n",
        "\n",
        "from pyspark.sql.types import IntegerType\n",
        "from pyspark.sql.types import DateType\n",
        "\n",
        "en_df_subset = en_df_subset.withColumn('tweetcreatedts', en_df_subset['tweetcreatedts'].cast(DateType()))\n",
        "en_df_subset = en_df_subset.withColumn('following', en_df_subset['following'].cast(IntegerType()))\n",
        "en_df_subset = en_df_subset.withColumn('followers', en_df_subset['followers'].cast(IntegerType()))\n",
        "en_df_subset = en_df_subset.withColumn('totaltweets', en_df_subset['totaltweets'].cast(IntegerType()))\n",
        "en_df_subset = en_df_subset.withColumn('retweetcount', en_df_subset['retweetcount'].cast(IntegerType()))\n",
        "en_df_subset.show()"
      ]
    },
    {
      "cell_type": "code",
      "execution_count": null,
      "metadata": {
        "colab": {
          "base_uri": "https://localhost:8080/"
        },
        "id": "ajK-zsuyuHG6",
        "outputId": "b8bb4607-a8c7-43fb-c68b-1a822ce82a79"
      },
      "outputs": [
        {
          "output_type": "stream",
          "name": "stdout",
          "text": [
            "username , string\n",
            "following , int\n",
            "followers , int\n",
            "totaltweets , int\n",
            "tweetcreatedts , date\n",
            "retweetcount , int\n",
            "text , string\n"
          ]
        }
      ],
      "source": [
        "#Check column types\n",
        "for col in en_df_subset.dtypes:\n",
        "    print(col[0]+\" , \"+col[1])"
      ]
    },
    {
      "cell_type": "code",
      "execution_count": null,
      "metadata": {
        "id": "dqDVHZwX_XlK"
      },
      "outputs": [],
      "source": [
        "en_df_subset = en_df_subset.na.drop(\"any\")"
      ]
    },
    {
      "cell_type": "markdown",
      "metadata": {
        "id": "wrZFVqreEKMj"
      },
      "source": [
        "### Text data Pre-processing"
      ]
    },
    {
      "cell_type": "code",
      "execution_count": null,
      "metadata": {
        "colab": {
          "base_uri": "https://localhost:8080/"
        },
        "id": "9ctWfE8sEH6I",
        "outputId": "422fc913-8f44-4333-96cd-45145b2716ae"
      },
      "outputs": [
        {
          "output_type": "stream",
          "name": "stdout",
          "text": [
            "Requirement already satisfied: emoji in /usr/local/lib/python3.7/dist-packages (1.7.0)\n"
          ]
        }
      ],
      "source": [
        "!pip install emoji"
      ]
    },
    {
      "cell_type": "code",
      "execution_count": null,
      "metadata": {
        "id": "uHuCFyrRQN4z"
      },
      "outputs": [],
      "source": [
        "text_data = en_df_subset.select('text').collect()\n",
        "\n",
        "final_text = []\n",
        "for i in range(len(text_data)):\n",
        "  x = text_data[i].asDict()['text']\n",
        "  final_text.append(x)\n"
      ]
    },
    {
      "cell_type": "code",
      "source": [
        "# Extracting un-processed text to show its progress through our analysis\n",
        "text_data[0].asDict()"
      ],
      "metadata": {
        "colab": {
          "base_uri": "https://localhost:8080/"
        },
        "id": "Tn9jeT5wZzU2",
        "outputId": "4edc1976-1b8f-44b8-cd29-11cfe5941cbe"
      },
      "execution_count": null,
      "outputs": [
        {
          "output_type": "execute_result",
          "data": {
            "text/plain": [
              "{'text': \"The #Anonymous collective has sent 7.000.000 anti-war texts to Russian cell phone users to tell them the truth about Putin's invasion of #Ukraine.\"}"
            ]
          },
          "metadata": {},
          "execution_count": 24
        }
      ]
    },
    {
      "cell_type": "code",
      "source": [
        "#pip instal nltk\n",
        "import nltk\n",
        "from nltk.corpus import stopwords\n",
        "import re\n",
        "re.compile('<title>(.*)</title>')"
      ],
      "metadata": {
        "colab": {
          "base_uri": "https://localhost:8080/"
        },
        "id": "XdB8ZC6c1kiU",
        "outputId": "1bdbc952-8383-4be4-c4dd-0a398ff007ca"
      },
      "execution_count": null,
      "outputs": [
        {
          "output_type": "execute_result",
          "data": {
            "text/plain": [
              "re.compile(r'<title>(.*)</title>', re.UNICODE)"
            ]
          },
          "metadata": {},
          "execution_count": 22
        }
      ]
    },
    {
      "cell_type": "code",
      "execution_count": null,
      "metadata": {
        "id": "Fs9wE5zQEcL2"
      },
      "outputs": [],
      "source": [
        "# Functions to text data:\n",
        "\n",
        "# Stemming\n",
        "sno=nltk.SnowballStemmer('english')\n",
        "\n",
        "# Removing 'weird' symbols:\n",
        "def cleanhtml(s): #html, code, /, < etc\n",
        "    a=re.sub('[|>.*?|\\.*|?.*?]',\"\",s)\n",
        "    return a\n",
        "\n",
        "# Removing punctuations:\n",
        "def cleanpunc(s): #remove punctuation\n",
        "    a=re.sub('[.|,|!,|)|(|/|\\|”|\\’|\\'|#|@|$|-|%|:]',\"\",s)\n",
        "    return a\n",
        "    "
      ]
    },
    {
      "cell_type": "code",
      "execution_count": null,
      "metadata": {
        "colab": {
          "base_uri": "https://localhost:8080/"
        },
        "id": "fz5OB1b5EPEt",
        "outputId": "d7fd4597-570e-4e76-80a4-43b0b747d4c2"
      },
      "outputs": [
        {
          "output_type": "stream",
          "name": "stdout",
          "text": [
            "[nltk_data] Downloading package stopwords to /root/nltk_data...\n",
            "[nltk_data]   Unzipping corpora/stopwords.zip.\n"
          ]
        }
      ],
      "source": [
        "# Stopwords list:\n",
        "nltk.download('stopwords')\n",
        "stop=set(stopwords.words('english'))"
      ]
    },
    {
      "cell_type": "code",
      "execution_count": null,
      "metadata": {
        "id": "P22gLlwnEQMI"
      },
      "outputs": [],
      "source": [
        "# removing stop words and doing stemming:\n",
        "\n",
        "#final = en_df_subset.iloc[0:1000]\n",
        "i = 0\n",
        "str1 = ''\n",
        "final_string=[]\n",
        "s = ''\n",
        "for s in final_text:\n",
        "    f = []\n",
        "    s = cleanhtml(s)\n",
        "    for w in s.split():\n",
        "        for c in cleanpunc(w).split():\n",
        "            if ((c.isalpha()) & (len(c)>2)):\n",
        "                if (c.lower() not in stop):\n",
        "                    s = (sno.stem(c.lower()))\n",
        "                    f.append(s)\n",
        "                else:\n",
        "                    continue\n",
        "            else:\n",
        "                continue\n",
        "    str1 = \" \".join(f)\n",
        "    final_string.append(str1)\n",
        "    i=i+1\n",
        "\n",
        "# adding cleanedtext in final data frame\n",
        "\n",
        "#en_df_subset['CleanedText'] = final_string"
      ]
    },
    {
      "cell_type": "code",
      "execution_count": null,
      "metadata": {
        "colab": {
          "base_uri": "https://localhost:8080/"
        },
        "id": "8tUWZ_zThj1h",
        "outputId": "75cdda08-5819-4fca-dac0-ebe8f5e639f4"
      },
      "outputs": [
        {
          "output_type": "execute_result",
          "data": {
            "text/plain": [
              "99944"
            ]
          },
          "metadata": {},
          "execution_count": 28
        }
      ],
      "source": [
        "len(final_string)\n"
      ]
    },
    {
      "cell_type": "code",
      "source": [
        "# Cleaned and stemmed text observation:\n",
        "final_string[0]"
      ],
      "metadata": {
        "colab": {
          "base_uri": "https://localhost:8080/",
          "height": 35
        },
        "id": "wOozYyRha8X8",
        "outputId": "0fdf0ad6-c0cc-4aa0-dcb3-4b330de57fb6"
      },
      "execution_count": null,
      "outputs": [
        {
          "output_type": "execute_result",
          "data": {
            "text/plain": [
              "'anonym collect sent text russian cell phone user tell truth putin invas ukrain'"
            ],
            "application/vnd.google.colaboratory.intrinsic+json": {
              "type": "string"
            }
          },
          "metadata": {},
          "execution_count": 29
        }
      ]
    },
    {
      "cell_type": "code",
      "source": [
        "pdf_final_string = pd.DataFrame(final_string)\n",
        "pdf_final_string.head()"
      ],
      "metadata": {
        "colab": {
          "base_uri": "https://localhost:8080/",
          "height": 206
        },
        "id": "WPwySWCJG5BA",
        "outputId": "a6722357-a18e-4200-c347-caac3cd56c67"
      },
      "execution_count": null,
      "outputs": [
        {
          "output_type": "execute_result",
          "data": {
            "text/plain": [
              "                                                   0\n",
              "0  anonym collect sent text russian cell phone us...\n",
              "1  addit adjust geopolit set consequ russiaukrain...\n",
              "2  pbpsouthcentr attend protest today end yemen u...\n",
              "3  former nato amb robert hunter nato credibl pro...\n",
              "4  ukrain ukrainian forc captur seri command vehi..."
            ],
            "text/html": [
              "\n",
              "  <div id=\"df-33b083c3-abb6-4b61-b70e-1876b10ce742\">\n",
              "    <div class=\"colab-df-container\">\n",
              "      <div>\n",
              "<style scoped>\n",
              "    .dataframe tbody tr th:only-of-type {\n",
              "        vertical-align: middle;\n",
              "    }\n",
              "\n",
              "    .dataframe tbody tr th {\n",
              "        vertical-align: top;\n",
              "    }\n",
              "\n",
              "    .dataframe thead th {\n",
              "        text-align: right;\n",
              "    }\n",
              "</style>\n",
              "<table border=\"1\" class=\"dataframe\">\n",
              "  <thead>\n",
              "    <tr style=\"text-align: right;\">\n",
              "      <th></th>\n",
              "      <th>0</th>\n",
              "    </tr>\n",
              "  </thead>\n",
              "  <tbody>\n",
              "    <tr>\n",
              "      <th>0</th>\n",
              "      <td>anonym collect sent text russian cell phone us...</td>\n",
              "    </tr>\n",
              "    <tr>\n",
              "      <th>1</th>\n",
              "      <td>addit adjust geopolit set consequ russiaukrain...</td>\n",
              "    </tr>\n",
              "    <tr>\n",
              "      <th>2</th>\n",
              "      <td>pbpsouthcentr attend protest today end yemen u...</td>\n",
              "    </tr>\n",
              "    <tr>\n",
              "      <th>3</th>\n",
              "      <td>former nato amb robert hunter nato credibl pro...</td>\n",
              "    </tr>\n",
              "    <tr>\n",
              "      <th>4</th>\n",
              "      <td>ukrain ukrainian forc captur seri command vehi...</td>\n",
              "    </tr>\n",
              "  </tbody>\n",
              "</table>\n",
              "</div>\n",
              "      <button class=\"colab-df-convert\" onclick=\"convertToInteractive('df-33b083c3-abb6-4b61-b70e-1876b10ce742')\"\n",
              "              title=\"Convert this dataframe to an interactive table.\"\n",
              "              style=\"display:none;\">\n",
              "        \n",
              "  <svg xmlns=\"http://www.w3.org/2000/svg\" height=\"24px\"viewBox=\"0 0 24 24\"\n",
              "       width=\"24px\">\n",
              "    <path d=\"M0 0h24v24H0V0z\" fill=\"none\"/>\n",
              "    <path d=\"M18.56 5.44l.94 2.06.94-2.06 2.06-.94-2.06-.94-.94-2.06-.94 2.06-2.06.94zm-11 1L8.5 8.5l.94-2.06 2.06-.94-2.06-.94L8.5 2.5l-.94 2.06-2.06.94zm10 10l.94 2.06.94-2.06 2.06-.94-2.06-.94-.94-2.06-.94 2.06-2.06.94z\"/><path d=\"M17.41 7.96l-1.37-1.37c-.4-.4-.92-.59-1.43-.59-.52 0-1.04.2-1.43.59L10.3 9.45l-7.72 7.72c-.78.78-.78 2.05 0 2.83L4 21.41c.39.39.9.59 1.41.59.51 0 1.02-.2 1.41-.59l7.78-7.78 2.81-2.81c.8-.78.8-2.07 0-2.86zM5.41 20L4 18.59l7.72-7.72 1.47 1.35L5.41 20z\"/>\n",
              "  </svg>\n",
              "      </button>\n",
              "      \n",
              "  <style>\n",
              "    .colab-df-container {\n",
              "      display:flex;\n",
              "      flex-wrap:wrap;\n",
              "      gap: 12px;\n",
              "    }\n",
              "\n",
              "    .colab-df-convert {\n",
              "      background-color: #E8F0FE;\n",
              "      border: none;\n",
              "      border-radius: 50%;\n",
              "      cursor: pointer;\n",
              "      display: none;\n",
              "      fill: #1967D2;\n",
              "      height: 32px;\n",
              "      padding: 0 0 0 0;\n",
              "      width: 32px;\n",
              "    }\n",
              "\n",
              "    .colab-df-convert:hover {\n",
              "      background-color: #E2EBFA;\n",
              "      box-shadow: 0px 1px 2px rgba(60, 64, 67, 0.3), 0px 1px 3px 1px rgba(60, 64, 67, 0.15);\n",
              "      fill: #174EA6;\n",
              "    }\n",
              "\n",
              "    [theme=dark] .colab-df-convert {\n",
              "      background-color: #3B4455;\n",
              "      fill: #D2E3FC;\n",
              "    }\n",
              "\n",
              "    [theme=dark] .colab-df-convert:hover {\n",
              "      background-color: #434B5C;\n",
              "      box-shadow: 0px 1px 3px 1px rgba(0, 0, 0, 0.15);\n",
              "      filter: drop-shadow(0px 1px 2px rgba(0, 0, 0, 0.3));\n",
              "      fill: #FFFFFF;\n",
              "    }\n",
              "  </style>\n",
              "\n",
              "      <script>\n",
              "        const buttonEl =\n",
              "          document.querySelector('#df-33b083c3-abb6-4b61-b70e-1876b10ce742 button.colab-df-convert');\n",
              "        buttonEl.style.display =\n",
              "          google.colab.kernel.accessAllowed ? 'block' : 'none';\n",
              "\n",
              "        async function convertToInteractive(key) {\n",
              "          const element = document.querySelector('#df-33b083c3-abb6-4b61-b70e-1876b10ce742');\n",
              "          const dataTable =\n",
              "            await google.colab.kernel.invokeFunction('convertToInteractive',\n",
              "                                                     [key], {});\n",
              "          if (!dataTable) return;\n",
              "\n",
              "          const docLinkHtml = 'Like what you see? Visit the ' +\n",
              "            '<a target=\"_blank\" href=https://colab.research.google.com/notebooks/data_table.ipynb>data table notebook</a>'\n",
              "            + ' to learn more about interactive tables.';\n",
              "          element.innerHTML = '';\n",
              "          dataTable['output_type'] = 'display_data';\n",
              "          await google.colab.output.renderOutput(dataTable, element);\n",
              "          const docLink = document.createElement('div');\n",
              "          docLink.innerHTML = docLinkHtml;\n",
              "          element.appendChild(docLink);\n",
              "        }\n",
              "      </script>\n",
              "    </div>\n",
              "  </div>\n",
              "  "
            ]
          },
          "metadata": {},
          "execution_count": 30
        }
      ]
    },
    {
      "cell_type": "code",
      "source": [
        "spark_col = spark.createDataFrame(pdf_final_string)"
      ],
      "metadata": {
        "id": "pGOvBgIzwUWk"
      },
      "execution_count": null,
      "outputs": []
    },
    {
      "cell_type": "code",
      "source": [
        "spark_col.show()"
      ],
      "metadata": {
        "colab": {
          "base_uri": "https://localhost:8080/"
        },
        "id": "j57l47RCHIfB",
        "outputId": "e7901925-9e01-4393-f613-823737c2047b"
      },
      "execution_count": null,
      "outputs": [
        {
          "output_type": "stream",
          "name": "stdout",
          "text": [
            "+--------------------+\n",
            "|                   0|\n",
            "+--------------------+\n",
            "|anonym collect se...|\n",
            "|addit adjust geop...|\n",
            "|pbpsouthcentr att...|\n",
            "|former nato amb r...|\n",
            "|ukrain ukrainian ...|\n",
            "|ukrain zmitser ap...|\n",
            "|biden insist puti...|\n",
            "|irpen region russ...|\n",
            "|biden insist puti...|\n",
            "|ukrain zmitser ap...|\n",
            "|ton medic aid ukr...|\n",
            "|vax food ukrain e...|\n",
            "|chrisvanhollen wa...|\n",
            "|aeyakovenko hard ...|\n",
            "|kyivindepend god ...|\n",
            "|speech warsaw sat...|\n",
            "|london unit kingd...|\n",
            "|moscow citi duma ...|\n",
            "|gop tell stori ex...|\n",
            "|ukrain zmitser ap...|\n",
            "+--------------------+\n",
            "only showing top 20 rows\n",
            "\n"
          ]
        }
      ]
    },
    {
      "cell_type": "code",
      "source": [
        "from pyspark.sql.functions import monotonically_increasing_id\n",
        "\n",
        "en_df_subset = en_df_subset.withColumn(\"id\",monotonically_increasing_id() )\n",
        "\n",
        "spark_col = spark_col.withColumn( \"id\", monotonically_increasing_id() )\n",
        "\n",
        "en_df_subset = en_df_subset.join(spark_col,en_df_subset.id == spark_col.id, how='inner')"
      ],
      "metadata": {
        "id": "tEsCg0nlLHQH"
      },
      "execution_count": null,
      "outputs": []
    },
    {
      "cell_type": "code",
      "source": [
        "en_df_subset = en_df_subset.withColumnRenamed('0', 'Cleaned_text')\n",
        "en_df_subset = en_df_subset.drop('id')"
      ],
      "metadata": {
        "id": "f4nAjwCWOQE-"
      },
      "execution_count": null,
      "outputs": []
    },
    {
      "cell_type": "code",
      "source": [
        "en_df_subset.show()"
      ],
      "metadata": {
        "colab": {
          "base_uri": "https://localhost:8080/"
        },
        "id": "wpSTIP3aOX8j",
        "outputId": "c55b8652-d5ac-4b4a-c735-f58212681e1e"
      },
      "execution_count": null,
      "outputs": [
        {
          "output_type": "stream",
          "name": "stdout",
          "text": [
            "+---------------+---------+---------+-----------+--------------+------------+--------------------+--------------------+\n",
            "|       username|following|followers|totaltweets|tweetcreatedts|retweetcount|                text|        Cleaned_text|\n",
            "+---------------+---------+---------+-----------+--------------+------------+--------------------+--------------------+\n",
            "|     AnonGhostt|        7|     5032|     376514|    2022-03-27|        6409|The #Anonymous co...|anonym collect se...|\n",
            "|      ORFMumbai|       50|     3239|      60298|    2022-03-27|           0|In addition to ad...|addit adjust geop...|\n",
            "|PbpSouthCentral|      158|       76|         17|    2022-03-27|           0|@PbpSouthCentral ...|pbpsouthcentr att...|\n",
            "|    RStatecraft|      337|    17196|      17760|    2022-03-27|           0|Former NATO Amb. ...|former nato amb r...|\n",
            "|alphacentauriii|     1298|     5302|      92575|    2022-03-27|         327|#Ukraine: Ukraini...|ukrain ukrainian ...|\n",
            "| Yvonne49788239|      214|      189|      18409|    2022-03-27|        1308|#Ukraine Zmitser ...|ukrain zmitser ap...|\n",
            "|   KarenFerry15|     1094|      605|       3568|    2022-03-27|         106|#Biden's insisten...|biden insist puti...|\n",
            "|         rui2c2|      937|      221|       4064|    2022-03-27|           2|\"#Ukraine In the ...|irpen region russ...|\n",
            "|       humspot1|     1869|      464|      31322|    2022-03-27|         106|#Biden's insisten...|biden insist puti...|\n",
            "|      AGomezler|     3959|      664|      23961|    2022-03-27|        1308|#Ukraine Zmitser ...|ukrain zmitser ap...|\n",
            "|   SColesPorter|     5227|     5357|      16556|    2022-03-27|           1|75 tons of medica...|ton medic aid ukr...|\n",
            "| cinnamon201718|      296|      442|     124599|    2022-03-27|         250|NO VAX, NO FOOD: ...|vax food ukrain e...|\n",
            "|GhebremariamTi1|      846|       38|        566|    2022-03-27|         136|.@ChrisVanHollen ...|chrisvanhollen wa...|\n",
            "|    DanValllejo|        3|        0|          6|    2022-03-27|         373|@aeyakovenko it's...|aeyakovenko hard ...|\n",
            "|     Rachel5742|     8836|    14933|      77347|    2022-03-27|           0|@KyivIndependent ...|kyivindepend god ...|\n",
            "|     haloboyscp|      591|      308|      20331|    2022-03-27|          14|\"During his speec...|speech warsaw sat...|\n",
            "|   RickiMayhall|     1784|     2348|     336103|    2022-03-27|          94|This is London, U...|london unit kingd...|\n",
            "|       SteeveQC|     1741|     1294|       8210|    2022-03-27|        3760|\"A #Moscow City D...|moscow citi duma ...|\n",
            "|      linneydel|     2509|     1935|     197941|    2022-03-27|           0|@GOP Tell your st...|gop tell stori ex...|\n",
            "|       serbreka|     2114|      605|       2926|    2022-03-27|        1308|#Ukraine Zmitser ...|ukrain zmitser ap...|\n",
            "+---------------+---------+---------+-----------+--------------+------------+--------------------+--------------------+\n",
            "only showing top 20 rows\n",
            "\n"
          ]
        }
      ]
    },
    {
      "cell_type": "markdown",
      "source": [
        "#### Create bins for classification"
      ],
      "metadata": {
        "id": "V0u7lt5uGe0E"
      }
    },
    {
      "cell_type": "code",
      "source": [
        "# Making bins on the data based on the retweet count:\n",
        "from pyspark.ml.feature import Bucketizer\n",
        "bucketizer = Bucketizer(splits=[ 0, 100, 500, 1000, 10000, float('Inf')],inputCol=\"retweetcount\", outputCol=\"retweetcount_cat\")\n",
        "en_df_subset = bucketizer.setHandleInvalid(\"keep\").transform(en_df_subset)"
      ],
      "metadata": {
        "id": "3Zim0yI1aAq3"
      },
      "execution_count": null,
      "outputs": []
    },
    {
      "cell_type": "code",
      "source": [
        "en_df_subset.show()"
      ],
      "metadata": {
        "id": "17MrWX1gagZu",
        "colab": {
          "base_uri": "https://localhost:8080/"
        },
        "outputId": "0a1aa2eb-8f0b-44e1-b276-ae2e5b8c1e5c"
      },
      "execution_count": null,
      "outputs": [
        {
          "output_type": "stream",
          "name": "stdout",
          "text": [
            "+---------------+---------+---------+-----------+--------------+------------+--------------------+--------------------+----------------+\n",
            "|       username|following|followers|totaltweets|tweetcreatedts|retweetcount|                text|        Cleaned_text|retweetcount_cat|\n",
            "+---------------+---------+---------+-----------+--------------+------------+--------------------+--------------------+----------------+\n",
            "|     AnonGhostt|        7|     5032|     376514|    2022-03-27|        6409|The #Anonymous co...|anonym collect se...|             3.0|\n",
            "|      ORFMumbai|       50|     3239|      60298|    2022-03-27|           0|In addition to ad...|addit adjust geop...|             0.0|\n",
            "|PbpSouthCentral|      158|       76|         17|    2022-03-27|           0|@PbpSouthCentral ...|pbpsouthcentr att...|             0.0|\n",
            "|    RStatecraft|      337|    17196|      17760|    2022-03-27|           0|Former NATO Amb. ...|former nato amb r...|             0.0|\n",
            "|alphacentauriii|     1298|     5302|      92575|    2022-03-27|         327|#Ukraine: Ukraini...|ukrain ukrainian ...|             1.0|\n",
            "| Yvonne49788239|      214|      189|      18409|    2022-03-27|        1308|#Ukraine Zmitser ...|ukrain zmitser ap...|             3.0|\n",
            "|   KarenFerry15|     1094|      605|       3568|    2022-03-27|         106|#Biden's insisten...|biden insist puti...|             1.0|\n",
            "|         rui2c2|      937|      221|       4064|    2022-03-27|           2|\"#Ukraine In the ...|irpen region russ...|             0.0|\n",
            "|       humspot1|     1869|      464|      31322|    2022-03-27|         106|#Biden's insisten...|biden insist puti...|             1.0|\n",
            "|      AGomezler|     3959|      664|      23961|    2022-03-27|        1308|#Ukraine Zmitser ...|ukrain zmitser ap...|             3.0|\n",
            "|   SColesPorter|     5227|     5357|      16556|    2022-03-27|           1|75 tons of medica...|ton medic aid ukr...|             0.0|\n",
            "| cinnamon201718|      296|      442|     124599|    2022-03-27|         250|NO VAX, NO FOOD: ...|vax food ukrain e...|             1.0|\n",
            "|GhebremariamTi1|      846|       38|        566|    2022-03-27|         136|.@ChrisVanHollen ...|chrisvanhollen wa...|             1.0|\n",
            "|    DanValllejo|        3|        0|          6|    2022-03-27|         373|@aeyakovenko it's...|aeyakovenko hard ...|             1.0|\n",
            "|     Rachel5742|     8836|    14933|      77347|    2022-03-27|           0|@KyivIndependent ...|kyivindepend god ...|             0.0|\n",
            "|     haloboyscp|      591|      308|      20331|    2022-03-27|          14|\"During his speec...|speech warsaw sat...|             0.0|\n",
            "|   RickiMayhall|     1784|     2348|     336103|    2022-03-27|          94|This is London, U...|london unit kingd...|             0.0|\n",
            "|       SteeveQC|     1741|     1294|       8210|    2022-03-27|        3760|\"A #Moscow City D...|moscow citi duma ...|             3.0|\n",
            "|      linneydel|     2509|     1935|     197941|    2022-03-27|           0|@GOP Tell your st...|gop tell stori ex...|             0.0|\n",
            "|       serbreka|     2114|      605|       2926|    2022-03-27|        1308|#Ukraine Zmitser ...|ukrain zmitser ap...|             3.0|\n",
            "+---------------+---------+---------+-----------+--------------+------------+--------------------+--------------------+----------------+\n",
            "only showing top 20 rows\n",
            "\n"
          ]
        }
      ]
    },
    {
      "cell_type": "code",
      "source": [
        "en_df_subset.dtypes"
      ],
      "metadata": {
        "colab": {
          "base_uri": "https://localhost:8080/"
        },
        "id": "nh73ley2ctWi",
        "outputId": "647c1d6f-fa8d-40a1-a62e-0fc0584fa237"
      },
      "execution_count": null,
      "outputs": [
        {
          "output_type": "execute_result",
          "data": {
            "text/plain": [
              "[('username', 'string'),\n",
              " ('following', 'int'),\n",
              " ('followers', 'int'),\n",
              " ('totaltweets', 'int'),\n",
              " ('tweetcreatedts', 'date'),\n",
              " ('retweetcount', 'int'),\n",
              " ('text', 'string'),\n",
              " ('Cleaned_text', 'string'),\n",
              " ('retweetcount_cat', 'double')]"
            ]
          },
          "metadata": {},
          "execution_count": 49
        }
      ]
    },
    {
      "cell_type": "markdown",
      "source": [
        "### **Data Visualization**"
      ],
      "metadata": {
        "id": "SmZsbJ4FixsJ"
      }
    },
    {
      "cell_type": "code",
      "source": [
        "# Reading data using pandas:\n",
        "import pandas as pd\n",
        "import seaborn as sns\n",
        "import numpy as np\n",
        "df_pandas = pd.read_csv('twitter_sub_final.csv')"
      ],
      "metadata": {
        "id": "ncuRIf4di-zf"
      },
      "execution_count": null,
      "outputs": []
    },
    {
      "cell_type": "code",
      "source": [
        "df_pandas.dtypes"
      ],
      "metadata": {
        "colab": {
          "base_uri": "https://localhost:8080/"
        },
        "id": "_fH2RapjkBxS",
        "outputId": "e83ee8b7-7d96-4033-8ff8-b06145a96b26"
      },
      "execution_count": null,
      "outputs": [
        {
          "output_type": "execute_result",
          "data": {
            "text/plain": [
              "Unnamed: 0            int64\n",
              "Unnamed: 0.1          int64\n",
              "username             object\n",
              "following           float64\n",
              "followers           float64\n",
              "totaltweets         float64\n",
              "language             object\n",
              "tweetcreatedts       object\n",
              "retweetcount        float64\n",
              "text                 object\n",
              "retweetcount_cat    float64\n",
              "dtype: object"
            ]
          },
          "metadata": {},
          "execution_count": 30
        }
      ]
    },
    {
      "cell_type": "code",
      "source": [
        "# Plotting the frequency of each bin:\n",
        "sns.countplot(data = df_pandas, x = 'retweetcount_cat').set(title='Distribution of retweetcount categories')"
      ],
      "metadata": {
        "colab": {
          "base_uri": "https://localhost:8080/",
          "height": 313
        },
        "id": "oCN6HkYLjsdA",
        "outputId": "bd5485cd-a292-428f-c0ee-db531c2bd328"
      },
      "execution_count": null,
      "outputs": [
        {
          "output_type": "execute_result",
          "data": {
            "text/plain": [
              "[Text(0.5, 1.0, 'Distribution of retweetcount categories')]"
            ]
          },
          "metadata": {},
          "execution_count": 31
        },
        {
          "output_type": "display_data",
          "data": {
            "text/plain": [
              "<Figure size 432x288 with 1 Axes>"
            ],
            "image/png": "[encoded data removed]"
          },
          "metadata": {
            "needs_background": "light"
          }
        }
      ]
    },
    {
      "cell_type": "code",
      "source": [
        "import matplotlib.pyplot as plt\n",
        "# Scatter plot of retweetcount vs followers and totaltweets:\n",
        "fig, (ax1,ax2) = plt.subplots(1,2, figsize=(12,5))\n",
        "\n",
        "ax1.set_title('followers vs retweetcount')\n",
        "sns.scatterplot(x='followers', y='retweetcount', data=df_pandas, color = \"darkorange\", ax=ax1)\n",
        "\n",
        "ax2.set_title('following vs retweetcount')\n",
        "sns.scatterplot(x='following', y='retweetcount', data=df_pandas, color = \"darkorange\", ax=ax2)"
      ],
      "metadata": {
        "colab": {
          "base_uri": "https://localhost:8080/",
          "height": 367
        },
        "id": "DOYx9KLul0L0",
        "outputId": "8e3bd728-5c59-47e3-ecf5-84da69370925"
      },
      "execution_count": null,
      "outputs": [
        {
          "output_type": "execute_result",
          "data": {
            "text/plain": [
              "<matplotlib.axes._subplots.AxesSubplot at 0x7f454ea48d90>"
            ]
          },
          "metadata": {},
          "execution_count": 32
        },
        {
          "output_type": "display_data",
          "data": {
            "text/plain": [
              "<Figure size 864x360 with 2 Axes>"
            ],
            "image/png": "[encoded data removed]"
          },
          "metadata": {
            "needs_background": "light"
          }
        }
      ]
    },
    {
      "cell_type": "code",
      "source": [
        "# Plotting the distribution of the retweet count with filtering the outliers, i.e. tweets with retweet count > 10000:\n",
        "sns.distplot(df_pandas[df_pandas[\"retweetcount\"]<10000]['retweetcount'])"
      ],
      "metadata": {
        "colab": {
          "base_uri": "https://localhost:8080/",
          "height": 351
        },
        "id": "Sk_sQreztu7E",
        "outputId": "49152e5e-b7ec-44f6-9508-a4d13c8c78ab"
      },
      "execution_count": null,
      "outputs": [
        {
          "output_type": "stream",
          "name": "stderr",
          "text": [
            "/usr/local/lib/python3.7/dist-packages/seaborn/distributions.py:2619: FutureWarning: `distplot` is a deprecated function and will be removed in a future version. Please adapt your code to use either `displot` (a figure-level function with similar flexibility) or `histplot` (an axes-level function for histograms).\n",
            "  warnings.warn(msg, FutureWarning)\n"
          ]
        },
        {
          "output_type": "execute_result",
          "data": {
            "text/plain": [
              "<matplotlib.axes._subplots.AxesSubplot at 0x7f44d4005350>"
            ]
          },
          "metadata": {},
          "execution_count": 34
        },
        {
          "output_type": "display_data",
          "data": {
            "text/plain": [
              "<Figure size 432x288 with 1 Axes>"
            ],
            "image/png": "[encoded data removed]"
          },
          "metadata": {
            "needs_background": "light"
          }
        }
      ]
    },
    {
      "cell_type": "markdown",
      "source": [
        "### Tokenize, Vectorize and IDF"
      ],
      "metadata": {
        "id": "KIfm1VEIGp50"
      }
    },
    {
      "cell_type": "code",
      "source": [
        "import pyspark.ml.feature\n",
        "from pyspark.ml.feature import Tokenizer, CountVectorizer, IDF"
      ],
      "metadata": {
        "id": "W4Chak3jKdV1"
      },
      "execution_count": null,
      "outputs": []
    },
    {
      "cell_type": "code",
      "source": [
        "tokenizer = Tokenizer(inputCol= 'Cleaned_text', outputCol='tokens')\n",
        "vectorizer = CountVectorizer(inputCol = 'tokens', outputCol = 'raw_features')\n",
        "idf = IDF(inputCol= 'raw_features', outputCol = 'vectorized_features')"
      ],
      "metadata": {
        "id": "oTpyIrukKtL1"
      },
      "execution_count": null,
      "outputs": []
    },
    {
      "cell_type": "code",
      "source": [
        "tokenizer.transform(en_df_subset).limit(1).select('tokens').show()"
      ],
      "metadata": {
        "colab": {
          "base_uri": "https://localhost:8080/"
        },
        "id": "pWEh1R1DbmEt",
        "outputId": "2ef7b5b4-f806-423c-afa5-71ec539ef594"
      },
      "execution_count": null,
      "outputs": [
        {
          "output_type": "stream",
          "name": "stdout",
          "text": [
            "+--------------------+\n",
            "|              tokens|\n",
            "+--------------------+\n",
            "|[anonym, collect,...|\n",
            "+--------------------+\n",
            "\n"
          ]
        }
      ]
    },
    {
      "cell_type": "code",
      "source": [
        "tokens = tokenizer.transform(en_df_subset)"
      ],
      "metadata": {
        "id": "MvoqtYdJdP6J"
      },
      "execution_count": null,
      "outputs": []
    },
    {
      "cell_type": "code",
      "source": [
        "vectors = vectorizer.fit(tokens)"
      ],
      "metadata": {
        "id": "TOrb_PyJe5fV"
      },
      "execution_count": null,
      "outputs": []
    },
    {
      "cell_type": "markdown",
      "source": [
        "## Model Building"
      ],
      "metadata": {
        "id": "cPUM_OO2o9wl"
      }
    },
    {
      "cell_type": "markdown",
      "source": [
        "#### Train-Test Split"
      ],
      "metadata": {
        "id": "DrBoWLhbHQP7"
      }
    },
    {
      "cell_type": "code",
      "source": [
        "# Splitting the dataset:\n",
        "(trainDF, testDF) = en_df_subset.randomSplit((0.8, 0.2), seed = 480)\n"
      ],
      "metadata": {
        "id": "bM_IV7Y0fH3V"
      },
      "execution_count": null,
      "outputs": []
    },
    {
      "cell_type": "code",
      "source": [
        "# Estimator model: -- classification\n",
        "from pyspark.ml.classification import LogisticRegression\n",
        "from pyspark.ml.classification import LinearSVC, OneVsRest\n",
        "from pyspark.ml.classification import DecisionTreeClassifier\n",
        "from pyspark.ml.classification import RandomForestClassifier\n",
        "from pyspark.ml.evaluation import MulticlassClassificationEvaluator"
      ],
      "metadata": {
        "id": "CDaemFaCfdTn"
      },
      "execution_count": null,
      "outputs": []
    },
    {
      "cell_type": "markdown",
      "source": [
        "#### **Classification**"
      ],
      "metadata": {
        "id": "_VA2jp7HHcNI"
      }
    },
    {
      "cell_type": "markdown",
      "source": [
        "With retweetcount_cat as the dependent variable, we perform classification. (retweetcount_cat is created by creating fixed bins using retweetcount column)."
      ],
      "metadata": {
        "id": "3LNBWaGIEINm"
      }
    },
    {
      "cell_type": "markdown",
      "source": [
        "##### Logistics Regression"
      ],
      "metadata": {
        "id": "G9tyIEHEtqWg"
      }
    },
    {
      "cell_type": "code",
      "source": [
        "# Building the pipeline:\n",
        "from pyspark.ml import Pipeline\n",
        "from pyspark.ml.linalg import Vectors\n",
        "\n",
        "lr = LogisticRegression(featuresCol= 'vectorized_features', labelCol='retweetcount_cat')\n",
        "pipeline = Pipeline(stages = [tokenizer, vectorizer, idf, lr])\n",
        "lr_model = pipeline.fit(trainDF)"
      ],
      "metadata": {
        "id": "9KqHQYSTgS9n"
      },
      "execution_count": null,
      "outputs": []
    },
    {
      "cell_type": "code",
      "source": [
        "# Predictions:\n",
        "pred_train = lr_model.transform(trainDF)\n",
        "pred_test = lr_model.transform(testDF)\n",
        "\n",
        "#evaluation\n",
        "evaluator_acc = MulticlassClassificationEvaluator(labelCol= 'retweetcount_cat', predictionCol = 'prediction', metricName = 'accuracy')\n",
        "evaluator_f1 = MulticlassClassificationEvaluator(labelCol= 'retweetcount_cat', predictionCol = 'prediction', metricName = 'f1')"
      ],
      "metadata": {
        "id": "sqsVrkkwpfAs"
      },
      "execution_count": null,
      "outputs": []
    },
    {
      "cell_type": "code",
      "source": [
        "accuracy_train = evaluator_acc.evaluate(pred_train)\n",
        "accuracy_test = evaluator_acc.evaluate(pred_test)\n",
        "\n",
        "f1_train = evaluator_f1.evaluate(pred_train)\n",
        "f1_test = evaluator_f1.evaluate(pred_test)"
      ],
      "metadata": {
        "id": "2B7gzKZcp9DK"
      },
      "execution_count": null,
      "outputs": []
    },
    {
      "cell_type": "code",
      "source": [
        "print(\"The accuracy through Logistic Regression over Training dataset is:\", accuracy_train)\n",
        "print(\"The accuracy through Logistic Regression over Testing dataset is:\", accuracy_test)\n",
        "print(\"The f1-score through Logistic Regression over Training dataset is:\", f1_train)\n",
        "print(\"The f1-score through Logistic Regression over Testing dataset is:\", f1_test)"
      ],
      "metadata": {
        "id": "z2k1kZefqxU0",
        "colab": {
          "base_uri": "https://localhost:8080/"
        },
        "outputId": "a8932972-059b-42c2-ebac-473c5cf2ffde"
      },
      "execution_count": null,
      "outputs": [
        {
          "output_type": "stream",
          "name": "stdout",
          "text": [
            "The accuracy through Logistic Regression over Training dataset is: 0.8956928512777128\n",
            "The accuracy through Logistic Regression over Testing dataset is: 0.8701311705216782\n",
            "The f1-score through Logistic Regression over Training dataset is: 0.8912659083361605\n",
            "The f1-score through Logistic Regression over Testing dataset is: 0.8667594543878913\n"
          ]
        }
      ]
    },
    {
      "cell_type": "markdown",
      "source": [
        "##### Decision Tree"
      ],
      "metadata": {
        "id": "BuKkznppt8Sv"
      }
    },
    {
      "cell_type": "code",
      "source": [
        "# Building the pipeline:\n",
        "\n",
        "dt_cls = DecisionTreeClassifier(featuresCol= 'vectorized_features', labelCol='retweetcount_cat')\n",
        "pipeline = Pipeline(stages = [tokenizer, vectorizer, idf, dt_cls])\n",
        "dt_cls_model = pipeline.fit(trainDF)"
      ],
      "metadata": {
        "id": "c2DTZO5KuRbK"
      },
      "execution_count": null,
      "outputs": []
    },
    {
      "cell_type": "code",
      "source": [
        "# Predictions:\n",
        "dt_pred_train = dt_cls_model.transform(trainDF)\n",
        "dt_pred_test = dt_cls_model.transform(testDF)\n",
        "\n",
        "#evaluation\n",
        "evaluator_acc = MulticlassClassificationEvaluator(labelCol= 'retweetcount_cat', predictionCol = 'prediction', metricName = 'accuracy')\n",
        "evaluator_f1 = MulticlassClassificationEvaluator(labelCol= 'retweetcount_cat', predictionCol = 'prediction', metricName = 'f1')"
      ],
      "metadata": {
        "id": "22DAPr4ruSvU"
      },
      "execution_count": null,
      "outputs": []
    },
    {
      "cell_type": "code",
      "source": [
        "dt_accuracy_train = evaluator_acc.evaluate(dt_pred_train)\n",
        "dt_accuracy_test = evaluator_acc.evaluate(dt_pred_test)\n",
        "\n",
        "dt_f1_train = evaluator_f1.evaluate(dt_pred_train)\n",
        "dt_f1_test = evaluator_f1.evaluate(dt_pred_test)"
      ],
      "metadata": {
        "id": "gGEpDcb-uSg-"
      },
      "execution_count": null,
      "outputs": []
    },
    {
      "cell_type": "code",
      "source": [
        "print(\"The accuracy through DecisionTree Classifier over Training dataset is:\", dt_accuracy_train)\n",
        "print(\"The accuracy through DecisionTree Classifier over Testing dataset is:\", dt_accuracy_test)\n",
        "print(\"The f1-score through DecisionTree Classifier over Training dataset is:\", dt_f1_train)\n",
        "print(\"The f1-score through DecisionTree Classifier over Testing dataset is:\", dt_f1_test)"
      ],
      "metadata": {
        "colab": {
          "base_uri": "https://localhost:8080/"
        },
        "id": "ZnS4ZqT2Ccfm",
        "outputId": "d4d78d5e-e3ae-4b85-eb60-a4a1af859627"
      },
      "execution_count": null,
      "outputs": [
        {
          "output_type": "stream",
          "name": "stdout",
          "text": [
            "The accuracy through DecisionTree Classifier over Training dataset is: 0.6445295976510985\n",
            "The accuracy through DecisionTree Classifier over Testing dataset is: 0.6398317813157104\n",
            "The f1-score through DecisionTree Classifier over Training dataset is: 0.560542281336554\n",
            "The f1-score through DecisionTree Classifier over Testing dataset is: 0.55763050157114\n"
          ]
        }
      ]
    },
    {
      "cell_type": "markdown",
      "source": [
        "##### Random Forest Classifier"
      ],
      "metadata": {
        "id": "tgwUWnSUuIKY"
      }
    },
    {
      "cell_type": "code",
      "source": [
        "# Building the pipeline:\n",
        "\n",
        "rf_cls = RandomForestClassifier(featuresCol= 'vectorized_features', labelCol='retweetcount_cat')\n",
        "pipeline = Pipeline(stages = [tokenizer, vectorizer, idf, rf_cls])\n",
        "rf_cls_model = pipeline.fit(trainDF)"
      ],
      "metadata": {
        "id": "2sc9AWs_Hluq"
      },
      "execution_count": null,
      "outputs": []
    },
    {
      "cell_type": "code",
      "source": [
        "# Predictions:\n",
        "rf_pred_train = rf_cls_model.transform(trainDF)\n",
        "rf_pred_test = rf_cls_model.transform(testDF)\n",
        "\n",
        "#evaluation\n",
        "evaluator_acc = MulticlassClassificationEvaluator(labelCol= 'retweetcount_cat', predictionCol = 'prediction', metricName = 'accuracy')\n",
        "evaluator_f1 = MulticlassClassificationEvaluator(labelCol= 'retweetcount_cat', predictionCol = 'prediction', metricName = 'f1')"
      ],
      "metadata": {
        "id": "5-Ne4KhSHlsP"
      },
      "execution_count": null,
      "outputs": []
    },
    {
      "cell_type": "code",
      "source": [
        "rf_accuracy_train = evaluator_acc.evaluate(rf_pred_train)\n",
        "rf_accuracy_test = evaluator_acc.evaluate(rf_pred_test)\n",
        "\n",
        "rf_f1_train = evaluator_f1.evaluate(rf_pred_train)\n",
        "rf_f1_test = evaluator_f1.evaluate(rf_pred_test)"
      ],
      "metadata": {
        "id": "d5oePpewHlqC"
      },
      "execution_count": null,
      "outputs": []
    },
    {
      "cell_type": "code",
      "source": [
        "print(\"The accuracy through Random Forest Classifier over Training dataset is:\", rf_accuracy_train)\n",
        "print(\"The accuracy through Random Forest Classifier over Testing dataset is:\", rf_accuracy_test)\n",
        "print(\"The f1-score through Random Forest Classifier over Training dataset is:\", rf_f1_train)\n",
        "print(\"The f1-score through Random Forest Classifier over Testing dataset is:\", rf_f1_test)"
      ],
      "metadata": {
        "colab": {
          "base_uri": "https://localhost:8080/"
        },
        "id": "E3CHuytSD-Bo",
        "outputId": "35219f06-63c8-41fd-a94f-cb2f3d24f4c6"
      },
      "execution_count": null,
      "outputs": [
        {
          "output_type": "stream",
          "name": "stdout",
          "text": [
            "The accuracy through Random Forest Classifier over Training dataset is: 0.569384657493344\n",
            "The accuracy through Random Forest Classifier over Testing dataset is: 0.5635325923700811\n",
            "The f1-score through Random Forest Classifier over Training dataset is: 0.45397807047680905\n",
            "The f1-score through Random Forest Classifier over Testing dataset is: 0.4471206192881868\n"
          ]
        }
      ]
    },
    {
      "cell_type": "markdown",
      "source": [
        "#### **Regression**"
      ],
      "metadata": {
        "id": "ErFUe59hHnKb"
      }
    },
    {
      "cell_type": "markdown",
      "source": [
        "With retweetcount as the dependent variable, we perform regression."
      ],
      "metadata": {
        "id": "MI3e-KO9EcLM"
      }
    },
    {
      "cell_type": "code",
      "source": [
        "# Estimator model: -- classification\n",
        "from pyspark.ml.regression import LinearRegression\n",
        "from pyspark.ml.regression import DecisionTreeRegressor\n",
        "from pyspark.ml.regression import RandomForestRegressor\n",
        "from pyspark.ml.evaluation import RegressionEvaluator"
      ],
      "metadata": {
        "id": "QLrbT8S3Hln3"
      },
      "execution_count": null,
      "outputs": []
    },
    {
      "cell_type": "markdown",
      "source": [
        "##### Decision Trees"
      ],
      "metadata": {
        "id": "_tP1gw9bHwUv"
      }
    },
    {
      "cell_type": "code",
      "source": [
        "# Building the pipeline:\n",
        "\n",
        "dt_reg = DecisionTreeRegressor(featuresCol= 'vectorized_features', labelCol='retweetcount')\n",
        "pipeline = Pipeline(stages = [tokenizer, vectorizer, idf, dt_reg])\n",
        "dt_reg_model = pipeline.fit(trainDF)"
      ],
      "metadata": {
        "id": "RbL-HxjCHldg"
      },
      "execution_count": null,
      "outputs": []
    },
    {
      "cell_type": "code",
      "source": [
        "# Predictions:\n",
        "dt_reg_pred_train = dt_reg_model.transform(trainDF)\n",
        "dt_reg_pred_test = dt_reg_model.transform(testDF)\n",
        "\n",
        "#evaluation\n",
        "evaluator_rmse = RegressionEvaluator(labelCol= 'retweetcount', predictionCol = 'prediction', metricName = 'rmse')\n",
        "evaluator_mae = RegressionEvaluator(labelCol= 'retweetcount', predictionCol = 'prediction', metricName = 'mae')"
      ],
      "metadata": {
        "id": "cy53JUCbHzXZ"
      },
      "execution_count": null,
      "outputs": []
    },
    {
      "cell_type": "code",
      "source": [
        "dt_rmse_train = evaluator_rmse.evaluate(dt_reg_pred_train)\n",
        "dt_rmse_test = evaluator_rmse.evaluate(dt_reg_pred_test)\n",
        "\n",
        "dt_mae_train = evaluator_mae.evaluate(dt_reg_pred_train)\n",
        "dt_mae_test = evaluator_mae.evaluate(dt_reg_pred_test)"
      ],
      "metadata": {
        "id": "rvyn9_D7HzUW"
      },
      "execution_count": null,
      "outputs": []
    },
    {
      "cell_type": "code",
      "source": [
        "print(\"The rmse through DecisionTree Regressor over Training dataset is:\", dt_rmse_train)\n",
        "print(\"The rmse through DecisionTree Regressor over Testing dataset is:\", dt_rmse_test)\n",
        "print(\"The mae through DecisionTree Regressor over Training dataset is:\", dt_mae_train)\n",
        "print(\"The mae through DecisionTree Regressor over Testing dataset is:\", dt_mae_test)"
      ],
      "metadata": {
        "colab": {
          "base_uri": "https://localhost:8080/"
        },
        "id": "KUBtgNk-E47X",
        "outputId": "3b52d6d9-41ac-4676-a2ca-7807eb202fd2"
      },
      "execution_count": null,
      "outputs": [
        {
          "output_type": "stream",
          "name": "stdout",
          "text": [
            "The rmse through DecisionTree Regressor over Training dataset is: 1148.5664684367111\n",
            "The rmse through DecisionTree Regressor over Testing dataset is: 1207.7171141513652\n",
            "The mae through DecisionTree Regressor over Training dataset is: 560.1517437979294\n",
            "The mae through DecisionTree Regressor over Testing dataset is: 581.0878375470124\n"
          ]
        }
      ]
    },
    {
      "cell_type": "markdown",
      "source": [
        "##### Random Forest"
      ],
      "metadata": {
        "id": "jAwAjZvyH0Gt"
      }
    },
    {
      "cell_type": "code",
      "source": [
        "# Building the pipeline:\n",
        "\n",
        "rf_reg = RandomForestRegressor(featuresCol= 'vectorized_features', labelCol='retweetcount')\n",
        "pipeline = Pipeline(stages = [tokenizer, vectorizer, idf, rf_reg])\n",
        "rf_reg_model = pipeline.fit(trainDF)"
      ],
      "metadata": {
        "id": "jXv6pHc_HzPq"
      },
      "execution_count": null,
      "outputs": []
    },
    {
      "cell_type": "code",
      "source": [
        "# Predictions:\n",
        "rf_reg_pred_train = rf_reg_model.transform(trainDF)\n",
        "rf_reg_pred_test = rf_reg_model.transform(testDF)\n",
        "\n",
        "#evaluation\n",
        "evaluator_rmse = RegressionEvaluator(labelCol= 'retweetcount', predictionCol = 'prediction', metricName = 'rmse')\n",
        "evaluator_mae = RegressionEvaluator(labelCol= 'retweetcount', predictionCol = 'prediction', metricName = 'mae')"
      ],
      "metadata": {
        "id": "Rbd5S0PJHzNB"
      },
      "execution_count": null,
      "outputs": []
    },
    {
      "cell_type": "code",
      "execution_count": null,
      "metadata": {
        "id": "v7JrKYknERuD"
      },
      "outputs": [],
      "source": [
        "rf_rmse_train = evaluator_rmse.evaluate(rf_reg_pred_train)\n",
        "rf_rmse_test = evaluator_rmse.evaluate(rf_reg_pred_test)\n",
        "\n",
        "rf_mae_train = evaluator_mae.evaluate(rf_reg_pred_train)\n",
        "rf_mae_test = evaluator_mae.evaluate(rf_reg_pred_test)"
      ]
    },
    {
      "cell_type": "code",
      "source": [
        "print(\"The rmse through RandomForest Regressor over Training dataset is:\", rf_rmse_train)\n",
        "print(\"The rmse through RandomForest Regressor over Testing dataset is:\", rf_rmse_test)\n",
        "print(\"The mae through RandomForest Regressor over Training dataset is:\", rf_mae_train)\n",
        "print(\"The mae through RandomForest Regressor over Testing dataset is:\", rf_mae_test)"
      ],
      "metadata": {
        "colab": {
          "base_uri": "https://localhost:8080/"
        },
        "id": "FZciH43iFMSX",
        "outputId": "c2a5d26c-e222-4eec-94f7-8fa5c0aeb376"
      },
      "execution_count": null,
      "outputs": [
        {
          "output_type": "stream",
          "name": "stdout",
          "text": [
            "The rmse through RandomForest Regressor over Training dataset is: 1240.5988452397087\n",
            "The rmse through RandomForest Regressor over Testing dataset is: 1188.6665950250256\n",
            "The mae through RandomForest Regressor over Training dataset is: 584.2543281799412\n",
            "The mae through RandomForest Regressor over Testing dataset is: 596.8010815141654\n"
          ]
        }
      ]
    },
    {
      "cell_type": "code",
      "source": [],
      "metadata": {
        "id": "AXBmGDbdJqZS"
      },
      "execution_count": null,
      "outputs": []
    }
  ],
  "metadata": {
    "accelerator": "GPU",
    "colab": {
      "collapsed_sections": [],
      "provenance": [],
      "toc_visible": true
    },
    "kernelspec": {
      "display_name": "Python 3",
      "name": "python3"
    },
    "language_info": {
      "name": "python"
    }
  },
  "nbformat": 4,
  "nbformat_minor": 0
}